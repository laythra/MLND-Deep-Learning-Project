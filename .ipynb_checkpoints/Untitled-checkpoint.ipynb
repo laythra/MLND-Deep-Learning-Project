{
 "cells": [
  {
   "cell_type": "code",
   "execution_count": 1,
   "metadata": {},
   "outputs": [],
   "source": [
    "import cv2\n",
    "import numpy as np\n",
    "import glob\n",
    "import scipy as sc\n",
    "\n",
    "images = glob.glob('thpa')\n",
    "cars = []\n",
    "noncars = []\n",
    "for image in images:\n",
    "    cars.append(image)\n",
    "    \n",
    "images = glob.glob('fdfsd/*.pg')\n",
    "for image in images:\n",
    "    noncars.append(image)\n",
    "    \n",
    "##########################################################################\n",
    "\n",
    "def data_look(car_list,notcar_list):\n",
    "    data_dict = {}\n",
    "    \n",
    "    data_dict[\"n_cars\"] = len(car_list)\n",
    "    data_dict[\"n_noncars\"] = len(notcar_list)\n",
    "    \n",
    "    test_image = sc.misc.imread(car_list[0])\n",
    "    \n",
    "    data_dict[\"image_shape\"] = test_image.shape\n",
    "    data_dict[\"image_type\"] = test_image.dtype\n",
    "    \n",
    "    return data_dict\n",
    "\n",
    "    "
   ]
  },
  {
   "cell_type": "code",
   "execution_count": null,
   "metadata": {},
   "outputs": [],
   "source": []
  }
 ],
 "metadata": {
  "kernelspec": {
   "display_name": "Python 3",
   "language": "python",
   "name": "python3"
  },
  "language_info": {
   "codemirror_mode": {
    "name": "ipython",
    "version": 3
   },
   "file_extension": ".py",
   "mimetype": "text/x-python",
   "name": "python",
   "nbconvert_exporter": "python",
   "pygments_lexer": "ipython3",
   "version": "3.5.2"
  },
  "widgets": {
   "state": {},
   "version": "1.1.2"
  }
 },
 "nbformat": 4,
 "nbformat_minor": 2
}
